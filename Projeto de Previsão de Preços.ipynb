{
 "cells": [
  {
   "cell_type": "code",
   "execution_count": null,
   "id": "c4749224",
   "metadata": {},
   "outputs": [],
   "source": [
    "#importando a base de dados\n",
    "import pandas as pd\n",
    "tabela = pd.read_csv(\"barcos_ref.csv\")\n",
    "display(tabela)"
   ]
  },
  {
   "cell_type": "code",
   "execution_count": null,
   "id": "87aa0216",
   "metadata": {},
   "outputs": [],
   "source": [
    "#identificando se há valores vazios ou em formato errado\n",
    "display(tabela.info())\n",
    "print(tabela.columns)"
   ]
  },
  {
   "cell_type": "code",
   "execution_count": null,
   "id": "819cff78",
   "metadata": {},
   "outputs": [],
   "source": [
    "# iniciando a análise exploratória por meio da correlação\n",
    "import seaborn as sns\n",
    "import matplotlib.pyplot as plt\n",
    "\n",
    "display(tabela.corr()[[\"Preco\"]])\n",
    "\n",
    "# criando e exibindo o gráfico em forma de mapa de calor para a correlação entre as colunas\n",
    "sns.heatmap(tabela.corr()[[\"Preco\"]], annot=True, cmap=\"Blues\")\n",
    "plt.show()"
   ]
  },
  {
   "cell_type": "code",
   "execution_count": null,
   "id": "b548b9fa",
   "metadata": {},
   "outputs": [],
   "source": [
    "from sklearn.model_selection import train_test_split\n",
    "\n",
    "# escolha das colunas a serem usadas. y é a coluna que queremos que o modelo calcule (vendas) e x são todas as outras colunas (TV, rádio e jornal)\n",
    "y = tabela[\"Preco\"]\n",
    "x = tabela.drop(\"Preco\", axis=1)\n",
    "\n",
    "# separando os dados em treino e teste. 70% de treino para os modelos aprenderem e 30% de teste para observar se o modelo aprendeu corretamente\n",
    "x_treino, x_teste, y_treino, y_teste = train_test_split(x, y, test_size=0.3, random_state=1)"
   ]
  },
  {
   "cell_type": "code",
   "execution_count": null,
   "id": "9c885a78",
   "metadata": {},
   "outputs": [],
   "source": [
    "# problema de regressão -> valores de venda são contínuos\n",
    "# modelos selecionados para fazer o teste: regressão linear, Random Forest, KNN-nearest neighbors e Gradient Boosting \n",
    "\n",
    "# importando as inteligências\n",
    "from sklearn.linear_model import LinearRegression\n",
    "from sklearn.ensemble import RandomForestRegressor\n",
    "from sklearn.neighbors import KNeighborsRegressor\n",
    "from sklearn.ensemble import GradientBoostingRegressor\n",
    "\n",
    "# criando as inteligencias aritificiais\n",
    "modelo_regressaolinear = LinearRegression()\n",
    "modelo_forest = RandomForestRegressor()\n",
    "modelo_knn = KNeighborsRegressor()\n",
    "modelo_boost = GradientBoostingRegressor()\n",
    "\n",
    "# treinando as inteligencias artificias\n",
    "modelo_regressaolinear.fit(x_treino, y_treino)\n",
    "modelo_forest.fit(x_treino, y_treino)\n",
    "modelo_knn.fit(x_treino, y_treino)\n",
    "modelo_boost.fit(x_treino, y_treino)"
   ]
  },
  {
   "cell_type": "code",
   "execution_count": null,
   "id": "84c3ee18",
   "metadata": {},
   "outputs": [],
   "source": [
    "from sklearn import metrics\n",
    "\n",
    "# calculando as previsões\n",
    "previsao_regressaolinear = modelo_regressaolinear.predict(x_teste)\n",
    "previsao_forest = modelo_forest.predict(x_teste)\n",
    "previsao_knn = modelo_knn.predict(x_teste)\n",
    "previsao_boost = modelo_boost.predict(x_teste)\n",
    "\n",
    "# comparando as previsões com o y_teste por meio do R²\n",
    "print(metrics.r2_score(y_teste, previsao_regressaolinear))\n",
    "print(metrics.r2_score(y_teste, previsao_forest))  \n",
    "print(metrics.r2_score(y_teste, previsao_knn))  \n",
    "print(metrics.r2_score(y_teste, previsao_boost))  \n",
    "    \n",
    "#melhor modelo para esse projeto = Random Forest\n",
    "#85.07% de coeficiente de determinação"
   ]
  },
  {
   "cell_type": "code",
   "execution_count": null,
   "id": "e6100a6a",
   "metadata": {},
   "outputs": [],
   "source": [
    "# executando novas previsões\n",
    "\n",
    "nova_tabela = pd.read_csv(\"novos_barcos.csv\")\n",
    "display(nova_tabela)\n",
    "previsao = modelo_arvoredecisao.predict(nova_tabela)\n",
    "print(previsao)\n",
    "\n",
    "# previsão de preços para os barcos 1, 2 e 3 da nova base de dados mostra que os seguintes preços são esperados de acordo as características fornecidas "
   ]
  },
  {
   "cell_type": "code",
   "execution_count": null,
   "id": "930e2987",
   "metadata": {},
   "outputs": [],
   "source": [
    "# quais os principais fatores levados em conta para definir o preço dos barcos?\n",
    "colunas = list(x_teste.columns)\n",
    "importancia = pd.DataFrame(index=colunas, data=modelo_forest.feature_importances_)\n",
    "importancia = importancia * 100\n",
    "print(importancia)\n",
    "\n",
    "# qual a influência de cada variável (TV, rádio e jornal) para as vendas graficamente?\n",
    "sns.barplot(x=x_treino.columns, y=modelo_forest.feature_importances_)\n",
    "\n",
    "plt.show()\n",
    "\n",
    "# a largura do barco é a característica mais importante da determinação dos barcos da base de dados fornecida"
   ]
  },
  {
   "cell_type": "code",
   "execution_count": null,
   "id": "0f5b2b89",
   "metadata": {},
   "outputs": [],
   "source": []
  }
 ],
 "metadata": {
  "kernelspec": {
   "display_name": "Python 3 (ipykernel)",
   "language": "python",
   "name": "python3"
  },
  "language_info": {
   "codemirror_mode": {
    "name": "ipython",
    "version": 3
   },
   "file_extension": ".py",
   "mimetype": "text/x-python",
   "name": "python",
   "nbconvert_exporter": "python",
   "pygments_lexer": "ipython3",
   "version": "3.11.4"
  }
 },
 "nbformat": 4,
 "nbformat_minor": 5
}
